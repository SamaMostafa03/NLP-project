{
  "cells": [
    {
      "cell_type": "code",
      "execution_count": null,
      "metadata": {
        "colab": {
          "base_uri": "https://localhost:8080/"
        },
        "execution": {
          "iopub.execute_input": "2024-05-01T00:03:57.838117Z",
          "iopub.status.busy": "2024-05-01T00:03:57.837663Z",
          "iopub.status.idle": "2024-05-01T00:04:40.145861Z",
          "shell.execute_reply": "2024-05-01T00:04:40.144688Z",
          "shell.execute_reply.started": "2024-05-01T00:03:57.838079Z"
        },
        "id": "EtNUcsvo3b5M",
        "outputId": "b3a61a4c-5916-432e-df3e-a7904b711e49",
        "trusted": true
      },
      "outputs": [
        {
          "output_type": "stream",
          "name": "stdout",
          "text": [
            "Requirement already satisfied: datasets in /usr/local/lib/python3.11/dist-packages (2.14.4)\n",
            "Requirement already satisfied: numpy>=1.17 in /usr/local/lib/python3.11/dist-packages (from datasets) (2.0.2)\n",
            "Requirement already satisfied: pyarrow>=8.0.0 in /usr/local/lib/python3.11/dist-packages (from datasets) (18.1.0)\n",
            "Requirement already satisfied: dill<0.3.8,>=0.3.0 in /usr/local/lib/python3.11/dist-packages (from datasets) (0.3.7)\n",
            "Requirement already satisfied: pandas in /usr/local/lib/python3.11/dist-packages (from datasets) (2.2.2)\n",
            "Requirement already satisfied: requests>=2.19.0 in /usr/local/lib/python3.11/dist-packages (from datasets) (2.32.3)\n",
            "Requirement already satisfied: tqdm>=4.62.1 in /usr/local/lib/python3.11/dist-packages (from datasets) (4.67.1)\n",
            "Requirement already satisfied: xxhash in /usr/local/lib/python3.11/dist-packages (from datasets) (3.5.0)\n",
            "Requirement already satisfied: multiprocess in /usr/local/lib/python3.11/dist-packages (from datasets) (0.70.15)\n",
            "Requirement already satisfied: fsspec>=2021.11.1 in /usr/local/lib/python3.11/dist-packages (from fsspec[http]>=2021.11.1->datasets) (2025.3.2)\n",
            "Requirement already satisfied: aiohttp in /usr/local/lib/python3.11/dist-packages (from datasets) (3.11.15)\n",
            "Requirement already satisfied: huggingface-hub<1.0.0,>=0.14.0 in /usr/local/lib/python3.11/dist-packages (from datasets) (0.31.1)\n",
            "Requirement already satisfied: packaging in /usr/local/lib/python3.11/dist-packages (from datasets) (24.2)\n",
            "Requirement already satisfied: pyyaml>=5.1 in /usr/local/lib/python3.11/dist-packages (from datasets) (6.0.2)\n",
            "Requirement already satisfied: aiohappyeyeballs>=2.3.0 in /usr/local/lib/python3.11/dist-packages (from aiohttp->datasets) (2.6.1)\n",
            "Requirement already satisfied: aiosignal>=1.1.2 in /usr/local/lib/python3.11/dist-packages (from aiohttp->datasets) (1.3.2)\n",
            "Requirement already satisfied: attrs>=17.3.0 in /usr/local/lib/python3.11/dist-packages (from aiohttp->datasets) (25.3.0)\n",
            "Requirement already satisfied: frozenlist>=1.1.1 in /usr/local/lib/python3.11/dist-packages (from aiohttp->datasets) (1.6.0)\n",
            "Requirement already satisfied: multidict<7.0,>=4.5 in /usr/local/lib/python3.11/dist-packages (from aiohttp->datasets) (6.4.3)\n",
            "Requirement already satisfied: propcache>=0.2.0 in /usr/local/lib/python3.11/dist-packages (from aiohttp->datasets) (0.3.1)\n",
            "Requirement already satisfied: yarl<2.0,>=1.17.0 in /usr/local/lib/python3.11/dist-packages (from aiohttp->datasets) (1.20.0)\n",
            "Requirement already satisfied: filelock in /usr/local/lib/python3.11/dist-packages (from huggingface-hub<1.0.0,>=0.14.0->datasets) (3.18.0)\n",
            "Requirement already satisfied: typing-extensions>=3.7.4.3 in /usr/local/lib/python3.11/dist-packages (from huggingface-hub<1.0.0,>=0.14.0->datasets) (4.13.2)\n",
            "Requirement already satisfied: hf-xet<2.0.0,>=1.1.0 in /usr/local/lib/python3.11/dist-packages (from huggingface-hub<1.0.0,>=0.14.0->datasets) (1.1.0)\n",
            "Requirement already satisfied: charset-normalizer<4,>=2 in /usr/local/lib/python3.11/dist-packages (from requests>=2.19.0->datasets) (3.4.2)\n",
            "Requirement already satisfied: idna<4,>=2.5 in /usr/local/lib/python3.11/dist-packages (from requests>=2.19.0->datasets) (3.10)\n",
            "Requirement already satisfied: urllib3<3,>=1.21.1 in /usr/local/lib/python3.11/dist-packages (from requests>=2.19.0->datasets) (2.4.0)\n",
            "Requirement already satisfied: certifi>=2017.4.17 in /usr/local/lib/python3.11/dist-packages (from requests>=2.19.0->datasets) (2025.4.26)\n",
            "Requirement already satisfied: python-dateutil>=2.8.2 in /usr/local/lib/python3.11/dist-packages (from pandas->datasets) (2.9.0.post0)\n",
            "Requirement already satisfied: pytz>=2020.1 in /usr/local/lib/python3.11/dist-packages (from pandas->datasets) (2025.2)\n",
            "Requirement already satisfied: tzdata>=2022.7 in /usr/local/lib/python3.11/dist-packages (from pandas->datasets) (2025.2)\n",
            "Requirement already satisfied: six>=1.5 in /usr/local/lib/python3.11/dist-packages (from python-dateutil>=2.8.2->pandas->datasets) (1.17.0)\n",
            "Requirement already satisfied: transformers in /usr/local/lib/python3.11/dist-packages (4.51.3)\n",
            "Requirement already satisfied: filelock in /usr/local/lib/python3.11/dist-packages (from transformers) (3.18.0)\n",
            "Requirement already satisfied: huggingface-hub<1.0,>=0.30.0 in /usr/local/lib/python3.11/dist-packages (from transformers) (0.31.1)\n",
            "Requirement already satisfied: numpy>=1.17 in /usr/local/lib/python3.11/dist-packages (from transformers) (2.0.2)\n",
            "Requirement already satisfied: packaging>=20.0 in /usr/local/lib/python3.11/dist-packages (from transformers) (24.2)\n",
            "Requirement already satisfied: pyyaml>=5.1 in /usr/local/lib/python3.11/dist-packages (from transformers) (6.0.2)\n",
            "Requirement already satisfied: regex!=2019.12.17 in /usr/local/lib/python3.11/dist-packages (from transformers) (2024.11.6)\n",
            "Requirement already satisfied: requests in /usr/local/lib/python3.11/dist-packages (from transformers) (2.32.3)\n",
            "Requirement already satisfied: tokenizers<0.22,>=0.21 in /usr/local/lib/python3.11/dist-packages (from transformers) (0.21.1)\n",
            "Requirement already satisfied: safetensors>=0.4.3 in /usr/local/lib/python3.11/dist-packages (from transformers) (0.5.3)\n",
            "Requirement already satisfied: tqdm>=4.27 in /usr/local/lib/python3.11/dist-packages (from transformers) (4.67.1)\n",
            "Requirement already satisfied: fsspec>=2023.5.0 in /usr/local/lib/python3.11/dist-packages (from huggingface-hub<1.0,>=0.30.0->transformers) (2025.3.2)\n",
            "Requirement already satisfied: typing-extensions>=3.7.4.3 in /usr/local/lib/python3.11/dist-packages (from huggingface-hub<1.0,>=0.30.0->transformers) (4.13.2)\n",
            "Requirement already satisfied: hf-xet<2.0.0,>=1.1.0 in /usr/local/lib/python3.11/dist-packages (from huggingface-hub<1.0,>=0.30.0->transformers) (1.1.0)\n",
            "Requirement already satisfied: charset-normalizer<4,>=2 in /usr/local/lib/python3.11/dist-packages (from requests->transformers) (3.4.2)\n",
            "Requirement already satisfied: idna<4,>=2.5 in /usr/local/lib/python3.11/dist-packages (from requests->transformers) (3.10)\n",
            "Requirement already satisfied: urllib3<3,>=1.21.1 in /usr/local/lib/python3.11/dist-packages (from requests->transformers) (2.4.0)\n",
            "Requirement already satisfied: certifi>=2017.4.17 in /usr/local/lib/python3.11/dist-packages (from requests->transformers) (2025.4.26)\n"
          ]
        }
      ],
      "source": [
        "!pip install datasets\n",
        "!pip install transformers"
      ]
    },
    {
      "cell_type": "code",
      "execution_count": null,
      "metadata": {
        "execution": {
          "iopub.execute_input": "2024-05-01T00:04:40.148969Z",
          "iopub.status.busy": "2024-05-01T00:04:40.148615Z",
          "iopub.status.idle": "2024-05-01T00:04:50.997291Z",
          "shell.execute_reply": "2024-05-01T00:04:50.996378Z",
          "shell.execute_reply.started": "2024-05-01T00:04:40.148937Z"
        },
        "id": "S1yPTbQZ-QZc",
        "trusted": true
      },
      "outputs": [],
      "source": [
        "import pandas as pd\n",
        "import torch\n",
        "from torch.utils.data import Dataset, DataLoader\n",
        "from transformers import AutoTokenizer, AutoModelForSeq2SeqLM, AutoConfig\n",
        "from sklearn.model_selection import train_test_split\n",
        "import numpy as np\n",
        "from dataclasses import dataclass\n",
        "from transformers import AutoTokenizer\n",
        "from torch.utils.data import Dataset\n",
        "from transformers import AutoConfig, AutoModelForSeq2SeqLM\n",
        "from torch.utils.data import DataLoader\n",
        "import torch.optim as optim\n",
        "import torch.nn as nn\n"
      ]
    },
    {
      "cell_type": "code",
      "source": [
        "df = pd.read_csv(\"/content/summarizdataset.csv\")\n",
        "df.shape"
      ],
      "metadata": {
        "colab": {
          "base_uri": "https://localhost:8080/"
        },
        "id": "WnLzMgoPhliF",
        "outputId": "7121884d-7fb8-4029-da4f-9b07b2ca9745"
      },
      "execution_count": null,
      "outputs": [
        {
          "output_type": "execute_result",
          "data": {
            "text/plain": [
              "(8378, 4)"
            ]
          },
          "metadata": {},
          "execution_count": 4
        }
      ]
    },
    {
      "cell_type": "code",
      "source": [
        "df.drop(columns=['Processed Text'], inplace=True)"
      ],
      "metadata": {
        "id": "T1_aMvf2Ku4u"
      },
      "execution_count": null,
      "outputs": []
    },
    {
      "cell_type": "code",
      "source": [
        "import re\n",
        "\n",
        "# Cleaning function\n",
        "def clean_arabic_text(text):\n",
        "    text = str(text)\n",
        "    text = re.sub(r'[\\u0617-\\u061A\\u064B-\\u0652]', '', text)  # Remove tashkeel\n",
        "    text = re.sub(r'[a-zA-Z0-9]', '', text)                  # Remove Latin chars & digits\n",
        "    text = re.sub(r'[^\\w\\s]', '', text)                      # Remove punctuation\n",
        "    text = re.sub(r'\\s+', ' ', text).strip()                 # Normalize whitespace\n",
        "    text = re.sub(r'[A-Za-z0-9@#^&*()+=\\[\\]{}<>\\\\|/?!~`:\";\\']+', '', text)  #remove non arabic\n",
        "     text = re.sub(r\"[إأآا]\", \"ا\", text)\n",
        "    text = re.sub(r\"ى\", \"ي\", text)\n",
        "    text = re.sub(r\"ؤ\", \"ء\", text)\n",
        "    text = re.sub(r\"ئ\", \"ء\", text)\n",
        "    text = re.sub(r\"ة\", \"ه\", text)\n",
        "    text = re.sub(r\"گ\", \"ك\", text)\n",
        "    return text\n",
        "\n",
        "# Apply cleaning\n",
        "df['Processed Text'] = df['text'].apply(clean_arabic_text)\n",
        "df['summarizer'] = df['summarizer'].apply(clean_arabic_text)"
      ],
      "metadata": {
        "id": "NKQqAuuSJSeI"
      },
      "execution_count": null,
      "outputs": []
    },
    {
      "cell_type": "code",
      "source": [
        "# Ensure both columns are strings\n",
        "df = df[df['text'].apply(lambda x: isinstance(x, str))]\n",
        "df = df[df['summarizer'].apply(lambda x: isinstance(x, str))]\n",
        "\n",
        "\n",
        "# Drop old 'text' column and reorder\n",
        "df.drop(columns=['text'], inplace=True)\n",
        "df = df[['Processed Text', 'type', 'summarizer']]\n",
        "\n",
        "# Save cleaned data\n",
        "df.to_csv('preprocessed_cleaned.csv', index=False)"
      ],
      "metadata": {
        "id": "-ByDe8rsQ8Hp"
      },
      "execution_count": null,
      "outputs": []
    },
    {
      "cell_type": "code",
      "source": [
        "df.shape"
      ],
      "metadata": {
        "colab": {
          "base_uri": "https://localhost:8080/"
        },
        "id": "4q7bXVt_Oepl",
        "outputId": "d875f8c7-6896-43f6-b7c9-fec6b34a6592"
      },
      "execution_count": null,
      "outputs": [
        {
          "output_type": "execute_result",
          "data": {
            "text/plain": [
              "(8378, 3)"
            ]
          },
          "metadata": {},
          "execution_count": 11
        }
      ]
    },
    {
      "cell_type": "code",
      "source": [
        "from sklearn.model_selection import train_test_split\n",
        "X_train, X_test, Y_train, Y_test = train_test_split(df['Processed Text'], df['summarizer'], test_size=0.2, random_state=42)"
      ],
      "metadata": {
        "id": "0UJlW0HYiqx1"
      },
      "execution_count": null,
      "outputs": []
    },
    {
      "cell_type": "code",
      "execution_count": null,
      "metadata": {
        "colab": {
          "base_uri": "https://localhost:8080/"
        },
        "execution": {
          "iopub.execute_input": "2024-05-01T00:04:51.958831Z",
          "iopub.status.busy": "2024-05-01T00:04:51.957660Z",
          "iopub.status.idle": "2024-05-01T00:04:51.965886Z",
          "shell.execute_reply": "2024-05-01T00:04:51.964735Z",
          "shell.execute_reply.started": "2024-05-01T00:04:51.958765Z"
        },
        "id": "45eS0aeuCLtf",
        "outputId": "6c44235e-eab6-450c-a647-9d9c21e7e59e",
        "trusted": true
      },
      "outputs": [
        {
          "output_type": "stream",
          "name": "stdout",
          "text": [
            "(6702, 2)\n"
          ]
        }
      ],
      "source": [
        "df_sampled = pd.concat([X_train, Y_train], axis=1)\n",
        "print(df_sampled.shape)"
      ]
    },
    {
      "cell_type": "code",
      "source": [
        "df_sampled = df_sampled.sample(n=2000, random_state=42)\n",
        "print(df_sampled.shape)"
      ],
      "metadata": {
        "colab": {
          "base_uri": "https://localhost:8080/"
        },
        "id": "DUCkA82Wi4qB",
        "outputId": "168e9197-759d-4ad1-ab35-bc8c0f6de106"
      },
      "execution_count": null,
      "outputs": [
        {
          "output_type": "stream",
          "name": "stdout",
          "text": [
            "(2000, 2)\n"
          ]
        }
      ]
    },
    {
      "cell_type": "code",
      "execution_count": null,
      "metadata": {
        "execution": {
          "iopub.execute_input": "2024-05-01T00:04:51.986649Z",
          "iopub.status.busy": "2024-05-01T00:04:51.986309Z",
          "iopub.status.idle": "2024-05-01T00:04:52.043272Z",
          "shell.execute_reply": "2024-05-01T00:04:52.042237Z",
          "shell.execute_reply.started": "2024-05-01T00:04:51.986596Z"
        },
        "id": "iabSWx82CSn1",
        "trusted": true
      },
      "outputs": [],
      "source": [
        "df_sampled.to_csv('/content/summarize_train_final.csv', index=False)"
      ]
    },
    {
      "cell_type": "code",
      "execution_count": null,
      "metadata": {
        "colab": {
          "base_uri": "https://localhost:8080/"
        },
        "execution": {
          "iopub.execute_input": "2024-05-01T00:04:52.092096Z",
          "iopub.status.busy": "2024-05-01T00:04:52.091709Z",
          "iopub.status.idle": "2024-05-01T00:04:52.099213Z",
          "shell.execute_reply": "2024-05-01T00:04:52.097866Z",
          "shell.execute_reply.started": "2024-05-01T00:04:52.092067Z"
        },
        "id": "sAI1Z7zEChKq",
        "outputId": "d12a7c0c-2c9d-4426-98d4-a31d2d79f56a",
        "trusted": true
      },
      "outputs": [
        {
          "output_type": "stream",
          "name": "stdout",
          "text": [
            "(1676, 2)\n"
          ]
        }
      ],
      "source": [
        "d_sampled = pd.concat([X_test, Y_test], axis=1)\n",
        "print(d_sampled.shape)"
      ]
    },
    {
      "cell_type": "code",
      "execution_count": null,
      "metadata": {
        "execution": {
          "iopub.execute_input": "2024-05-01T00:04:52.100722Z",
          "iopub.status.busy": "2024-05-01T00:04:52.100433Z",
          "iopub.status.idle": "2024-05-01T00:04:52.113641Z",
          "shell.execute_reply": "2024-05-01T00:04:52.112526Z",
          "shell.execute_reply.started": "2024-05-01T00:04:52.100697Z"
        },
        "trusted": true,
        "colab": {
          "base_uri": "https://localhost:8080/"
        },
        "id": "abOcwGZ0hBFW",
        "outputId": "93a43f95-c3f7-4889-935f-775ed8248c6f"
      },
      "outputs": [
        {
          "output_type": "stream",
          "name": "stdout",
          "text": [
            "(400, 2)\n"
          ]
        }
      ],
      "source": [
        "d_sampled = d_sampled.sample(n=400, random_state=42)\n",
        "print(d_sampled.shape)"
      ]
    },
    {
      "cell_type": "code",
      "execution_count": null,
      "metadata": {
        "execution": {
          "iopub.execute_input": "2024-05-01T00:04:52.134957Z",
          "iopub.status.busy": "2024-05-01T00:04:52.134562Z",
          "iopub.status.idle": "2024-05-01T00:04:52.160856Z",
          "shell.execute_reply": "2024-05-01T00:04:52.159847Z",
          "shell.execute_reply.started": "2024-05-01T00:04:52.134925Z"
        },
        "id": "gLkbVx1UC8Tq",
        "trusted": true
      },
      "outputs": [],
      "source": [
        "d_sampled.to_csv('/content/summarize_test_final.csv',index = False)"
      ]
    },
    {
      "cell_type": "code",
      "source": [
        "device = torch.device(\"cuda\" if torch.cuda.is_available() else \"cpu\")"
      ],
      "metadata": {
        "id": "MP8BUBCIHsjM"
      },
      "execution_count": null,
      "outputs": []
    },
    {
      "cell_type": "code",
      "source": [
        "from torch.utils.data import Dataset\n",
        "from transformers import AutoTokenizer\n",
        "from dataclasses import dataclass\n",
        "\n",
        "@dataclass\n",
        "class LabeledExample:\n",
        "    paragraph: str\n",
        "    summary: str\n",
        "\n",
        "class LabeledDataset(Dataset):\n",
        "    def __init__(self, data: list[LabeledExample]):\n",
        "        self.data = data\n",
        "        self.tokenizer = AutoTokenizer.from_pretrained('moussaKam/AraBART')\n",
        "\n",
        "    def __len__(self) -> int:\n",
        "        return len(self.data)\n",
        "\n",
        "    def __getitem__(self, idx):\n",
        "        # Unpack the tuple properly (with 2 values: paragraph and summary)\n",
        "        paragraph, summary = self.data[idx]\n",
        "\n",
        "        # Ensure paragraph and summary are strings and clean them up\n",
        "        paragraph = str(paragraph).strip() if isinstance(paragraph, str) else \"\"\n",
        "        summary = str(summary).strip() if isinstance(summary, str) else \"\"\n",
        "\n",
        "        # Tokenize the paragraph (input)\n",
        "        inputs = self.tokenizer.encode_plus(\n",
        "            paragraph,\n",
        "            truncation=True,\n",
        "            padding='max_length',\n",
        "            max_length=512,\n",
        "            return_tensors='pt'\n",
        "        )\n",
        "\n",
        "        # Tokenize the summary (labels)\n",
        "        labels = self.tokenizer.encode_plus(\n",
        "            summary,\n",
        "            truncation=True,\n",
        "            padding='max_length',\n",
        "            max_length=110,\n",
        "            return_tensors='pt'\n",
        "        )\n",
        "\n",
        "        return {\n",
        "            'input_ids': inputs['input_ids'].flatten(),\n",
        "            'attention_mask': inputs['attention_mask'].flatten(),\n",
        "            'labels': labels['input_ids'].flatten()\n",
        "        }\n"
      ],
      "metadata": {
        "id": "2MJfl72NV50E"
      },
      "execution_count": null,
      "outputs": []
    },
    {
      "cell_type": "code",
      "execution_count": null,
      "metadata": {
        "execution": {
          "iopub.execute_input": "2024-05-01T00:04:52.267713Z",
          "iopub.status.busy": "2024-05-01T00:04:52.267006Z",
          "iopub.status.idle": "2024-05-01T00:04:52.288959Z",
          "shell.execute_reply": "2024-05-01T00:04:52.287765Z",
          "shell.execute_reply.started": "2024-05-01T00:04:52.267683Z"
        },
        "id": "sE6rM-AV-QZg",
        "trusted": true
      },
      "outputs": [],
      "source": [
        "# Load and preprocess the labeled dataset\n",
        "def load_labeled_dataset(file_path, nrows=None):\n",
        "    df = pd.read_csv(file_path, nrows=nrows)\n",
        "    dataset = []\n",
        "    for _, row in df.iterrows():\n",
        "        paragraph = row['Processed Text']\n",
        "        summary = row['summarizer']\n",
        "        dataset.append((paragraph, summary))\n",
        "    return dataset"
      ]
    },
    {
      "cell_type": "code",
      "execution_count": null,
      "metadata": {
        "execution": {
          "iopub.execute_input": "2024-05-01T00:04:52.290724Z",
          "iopub.status.busy": "2024-05-01T00:04:52.290365Z",
          "iopub.status.idle": "2024-05-01T00:04:53.710582Z",
          "shell.execute_reply": "2024-05-01T00:04:53.709622Z",
          "shell.execute_reply.started": "2024-05-01T00:04:52.290693Z"
        },
        "id": "wmiyq1II-QZh",
        "trusted": true,
        "colab": {
          "base_uri": "https://localhost:8080/",
          "height": 205,
          "referenced_widgets": [
            "8e24a98dd8534b52810658263065dcff",
            "b4cdcc17893b484eacef76691fd5ecbf",
            "c327c2a85a724b2a9df96a6cea7c6908",
            "42f9eedd88724480b38832b780bc52c6",
            "5a01888e5b4d44fabf3000f710686eb1",
            "4acf5e8d31d74ec08de5aba41d9f4c8e",
            "a3081e70119541f2aa7c37a79b4dcf0e",
            "778cecfed7c94b4799847b9264755927",
            "359746a861364f2ab94d062fa70763bc",
            "3a19ab6d52494f9e997c316de3ce17d9",
            "be92c00dec5e475b9aac9fb87205a440",
            "62b528b72eb14b479ac2bc0c1eb454b4",
            "32fabf95d33848339fcc6e133b83c601",
            "9db4b349c3ab429db11e3727bbee04df",
            "540d9e39daf24896bbda980648c51dc9",
            "4728c1945ca848c49697504cfe8652fa",
            "1a3bf04cb2f74ade8a2828ccebea322f",
            "43d4797faf9140b2b3563e9dfe9b44b8",
            "e3e460253aeb40d0bae9981d005b3bd2",
            "de098e3471c34731b8fa14750f28bcc9",
            "148d281660bd43e5ae5de10c7ba7b725",
            "9db3476b1aed45f1b5fab5de5acd94bc"
          ]
        },
        "outputId": "a5ba9856-10f6-4ff7-b5ac-a2940ec71587"
      },
      "outputs": [
        {
          "output_type": "stream",
          "name": "stderr",
          "text": [
            "/usr/local/lib/python3.11/dist-packages/huggingface_hub/utils/_auth.py:94: UserWarning: \n",
            "The secret `HF_TOKEN` does not exist in your Colab secrets.\n",
            "To authenticate with the Hugging Face Hub, create a token in your settings tab (https://huggingface.co/settings/tokens), set it as secret in your Google Colab and restart your session.\n",
            "You will be able to reuse this secret in all of your notebooks.\n",
            "Please note that authentication is recommended but still optional to access public models or datasets.\n",
            "  warnings.warn(\n"
          ]
        },
        {
          "output_type": "display_data",
          "data": {
            "text/plain": [
              "config.json:   0%|          | 0.00/1.39k [00:00<?, ?B/s]"
            ],
            "application/vnd.jupyter.widget-view+json": {
              "version_major": 2,
              "version_minor": 0,
              "model_id": "8e24a98dd8534b52810658263065dcff"
            }
          },
          "metadata": {}
        },
        {
          "output_type": "display_data",
          "data": {
            "text/plain": [
              "sentencepiece.bpe.model:   0%|          | 0.00/1.32M [00:00<?, ?B/s]"
            ],
            "application/vnd.jupyter.widget-view+json": {
              "version_major": 2,
              "version_minor": 0,
              "model_id": "62b528b72eb14b479ac2bc0c1eb454b4"
            }
          },
          "metadata": {}
        }
      ],
      "source": [
        "# Load the labeled dataset\n",
        "labeled_dataset = load_labeled_dataset('/content/summarize_train_final.csv')\n",
        "dataset = LabeledDataset(labeled_dataset)"
      ]
    },
    {
      "cell_type": "code",
      "execution_count": null,
      "metadata": {
        "execution": {
          "iopub.execute_input": "2024-05-01T00:04:53.712161Z",
          "iopub.status.busy": "2024-05-01T00:04:53.711717Z",
          "iopub.status.idle": "2024-05-01T00:04:59.677597Z",
          "shell.execute_reply": "2024-05-01T00:04:59.676516Z",
          "shell.execute_reply.started": "2024-05-01T00:04:53.712135Z"
        },
        "id": "KQzMOFAc-QZi",
        "trusted": true,
        "colab": {
          "base_uri": "https://localhost:8080/",
          "height": 49,
          "referenced_widgets": [
            "4f69a639439b48a18ce8bf4de087ca3b",
            "0649d9ed9e4c40459881e05566ce9819",
            "06c1178275ab41fea770ca90d7078698",
            "32123d2755ef4e1b8ac158def1478418",
            "f2e5668ccc3649a08dbf587be5a67204",
            "f890506bee01464a81bd0ced61d7ac2f",
            "d213fb5fd8ad41fea3e0c5ec4ccecaed",
            "a3fd46c4ab9d4a50a68b6dc83548a8cb",
            "6432809ad468450a9686c98a5b978d34",
            "e097d8dd83cb4c398b01a99b74c0b1c0",
            "0e2fcdd88ad548c69639719e548f56b5"
          ]
        },
        "outputId": "3da4ffc5-ed34-496a-fb14-c1e33f888f99"
      },
      "outputs": [
        {
          "output_type": "display_data",
          "data": {
            "text/plain": [
              "pytorch_model.bin:   0%|          | 0.00/557M [00:00<?, ?B/s]"
            ],
            "application/vnd.jupyter.widget-view+json": {
              "version_major": 2,
              "version_minor": 0,
              "model_id": "4f69a639439b48a18ce8bf4de087ca3b"
            }
          },
          "metadata": {}
        }
      ],
      "source": [
        "def initialize_model(pretrained_model_name, device):\n",
        "\n",
        "    model_config = AutoConfig.from_pretrained(pretrained_model_name)\n",
        "    model = AutoModelForSeq2SeqLM.from_pretrained(pretrained_model_name, config=model_config)\n",
        "    model.to(device)\n",
        "\n",
        "    return model\n",
        "\n",
        "device = 'cuda'\n",
        "model = initialize_model('moussaKam/AraBART', device)\n"
      ]
    },
    {
      "cell_type": "code",
      "execution_count": null,
      "metadata": {
        "execution": {
          "iopub.execute_input": "2024-05-01T00:04:59.679500Z",
          "iopub.status.busy": "2024-05-01T00:04:59.678983Z",
          "iopub.status.idle": "2024-05-01T00:04:59.688326Z",
          "shell.execute_reply": "2024-05-01T00:04:59.687324Z",
          "shell.execute_reply.started": "2024-05-01T00:04:59.679471Z"
        },
        "id": "timSpv-Z-QZi",
        "trusted": true,
        "colab": {
          "base_uri": "https://localhost:8080/"
        },
        "outputId": "ac82c08a-9b1c-4404-f3b1-161abde41a44"
      },
      "outputs": [
        {
          "output_type": "stream",
          "name": "stderr",
          "text": [
            "/usr/local/lib/python3.11/dist-packages/torch/utils/data/dataloader.py:624: UserWarning: This DataLoader will create 4 worker processes in total. Our suggested max number of worker in current system is 2, which is smaller than what this DataLoader is going to create. Please be aware that excessive worker creation might get DataLoader running slow or even freeze, lower the worker number to avoid potential slowness/freeze if necessary.\n",
            "  warnings.warn(\n"
          ]
        }
      ],
      "source": [
        "def create_data_loader(dataset, batch_size):\n",
        "    return DataLoader(dataset, batch_size=batch_size, shuffle=True, num_workers=4, pin_memory=True)\n",
        "\n",
        "def initialize_training_components(model, learning_rate):\n",
        "    optimizer = optim.AdamW(model.parameters(), lr=learning_rate)\n",
        "    criterion = nn.CrossEntropyLoss()\n",
        "    return optimizer, criterion\n",
        "\n",
        "\n",
        "batch_size = 8\n",
        "learning_rate = 5e-5\n",
        "data_loader = create_data_loader(dataset, batch_size)\n",
        "optimizer, criterion = initialize_training_components(model, learning_rate)\n"
      ]
    },
    {
      "cell_type": "code",
      "source": [
        "import pandas as pd\n",
        "from torch.utils.data import Dataset, DataLoader\n",
        "from transformers import AutoTokenizer\n",
        "def prepare_validation_dataset(file_path, tokenizer_name='moussaKam/AraBART'):\n",
        "\n",
        "    df = pd.read_csv(file_path)\n",
        "    validation_data = [(row['example_id'], row['Processed Text'],row['summarizer']) for _, row in df.iterrows()]\n",
        "\n",
        "    class ValidationDataset(Dataset):\n",
        "        def __init__(self, data, tokenizer):\n",
        "            self.data = data\n",
        "            self.tokenizer = tokenizer\n",
        "\n",
        "        def __len__(self):\n",
        "            return len(self.data)\n",
        "\n",
        "        def __getitem__(self, index):\n",
        "             example_id, paragraph, summarizer = self.data[index]\n",
        "             inputs = self.tokenizer.encode_plus(paragraph,\n",
        "                                                 truncation=True,\n",
        "                                                 padding='max_length',\n",
        "                                                 max_length=512,\n",
        "                                                 return_tensors='pt')\n",
        "             return {\n",
        "                    'example_id': example_id,\n",
        "                    'paragraph': paragraph,\n",
        "                    'summarizer': summarizer,  # Add this line to include the true summary\n",
        "                    'input_ids': inputs['input_ids'].squeeze(),\n",
        "                    'attention_mask': inputs['attention_mask'].squeeze()\n",
        "                   }\n",
        "\n",
        "\n",
        "    tokenizer = AutoTokenizer.from_pretrained(tokenizer_name)\n",
        "    dataset_instance = ValidationDataset(validation_data, tokenizer)\n",
        "\n",
        "    return dataset_instance\n",
        "\n",
        "\n",
        "file_path = '/content/summarize_test_final.csv'\n",
        "validation_dataset = prepare_validation_dataset(file_path)\n"
      ],
      "metadata": {
        "id": "3CnGjo09Vp7V"
      },
      "execution_count": null,
      "outputs": []
    },
    {
      "cell_type": "code",
      "execution_count": null,
      "metadata": {
        "execution": {
          "iopub.execute_input": "2024-05-01T00:05:00.438792Z",
          "iopub.status.busy": "2024-05-01T00:05:00.438513Z",
          "iopub.status.idle": "2024-05-01T00:05:00.443993Z",
          "shell.execute_reply": "2024-05-01T00:05:00.443060Z",
          "shell.execute_reply.started": "2024-05-01T00:05:00.438770Z"
        },
        "id": "QxrWJKJ1-QZk",
        "trusted": true
      },
      "outputs": [],
      "source": [
        "def create_data_loader(dataset, batch_size, shuffle):\n",
        "    return DataLoader(dataset, batch_size=batch_size, shuffle=shuffle)\n",
        "\n",
        "batch_size = 8\n",
        "validation_data_loader = create_data_loader(validation_dataset, batch_size, shuffle=False)\n"
      ]
    },
    {
      "cell_type": "code",
      "execution_count": null,
      "metadata": {
        "execution": {
          "iopub.execute_input": "2024-05-01T00:05:00.445597Z",
          "iopub.status.busy": "2024-05-01T00:05:00.445260Z",
          "iopub.status.idle": "2024-05-01T00:17:26.239483Z",
          "shell.execute_reply": "2024-05-01T00:17:26.238623Z",
          "shell.execute_reply.started": "2024-05-01T00:05:00.445568Z"
        },
        "id": "FqAr7Lvx-QZl",
        "outputId": "39a2b1b0-1ac6-4162-fbc4-56e641e1ef42",
        "trusted": true,
        "colab": {
          "base_uri": "https://localhost:8080/"
        }
      },
      "outputs": [
        {
          "output_type": "stream",
          "name": "stderr",
          "text": [
            "/usr/local/lib/python3.11/dist-packages/torch/utils/data/dataloader.py:624: UserWarning: This DataLoader will create 4 worker processes in total. Our suggested max number of worker in current system is 2, which is smaller than what this DataLoader is going to create. Please be aware that excessive worker creation might get DataLoader running slow or even freeze, lower the worker number to avoid potential slowness/freeze if necessary.\n",
            "  warnings.warn(\n"
          ]
        },
        {
          "output_type": "stream",
          "name": "stdout",
          "text": [
            "Epoch 1, Loss: 0.8278\n",
            "Epoch 2, Loss: 0.1541\n",
            "Epoch 3, Loss: 0.1139\n",
            "Epoch 4, Loss: 0.0909\n",
            "Epoch 5, Loss: 0.0740\n",
            "Epoch 6, Loss: 0.0608\n",
            "Epoch 7, Loss: 0.0540\n",
            "Epoch 8, Loss: 0.0418\n",
            "Epoch 9, Loss: 0.0371\n",
            "Epoch 10, Loss: 0.0298\n"
          ]
        },
        {
          "output_type": "stream",
          "name": "stderr",
          "text": [
            "/usr/local/lib/python3.11/dist-packages/transformers/modeling_utils.py:3339: UserWarning: Moving the following attributes in the config to the generation config: {'early_stopping': True, 'num_beams': 4, 'no_repeat_ngram_size': 3}. You are seeing this warning because you've set generation parameters in the model config, as opposed to in the generation config.\n",
            "  warnings.warn(\n"
          ]
        }
      ],
      "source": [
        "def train_one_epoch(model, data_loader, optimizer, device):\n",
        "    model.train()\n",
        "    total_loss = 0\n",
        "    for batch in data_loader:\n",
        "        optimizer.zero_grad()\n",
        "        input_ids = batch['input_ids'].to(device)\n",
        "        attention_mask = batch['attention_mask'].to(device)\n",
        "        labels = batch['labels'].to(device)\n",
        "\n",
        "        outputs = model(input_ids=input_ids, attention_mask=attention_mask, labels=labels)\n",
        "        loss = outputs.loss\n",
        "        logits = outputs.logits\n",
        "\n",
        "\n",
        "        loss.backward()\n",
        "        optimizer.step()\n",
        "\n",
        "        total_loss += loss.item()\n",
        "\n",
        "    avg_loss = total_loss / len(data_loader)\n",
        "    print(f\"Epoch {epoch + 1}, Loss: {avg_loss:.4f}\")\n",
        "\n",
        "def evaluate_model(model, validation_loader, device):\n",
        "    model.eval()\n",
        "\n",
        "def save_model(model, directory):\n",
        "    model.save_pretrained(directory)\n",
        "\n",
        "\n",
        "num_epochs = 10\n",
        "for epoch in range(num_epochs):\n",
        "    train_one_epoch(model, data_loader, optimizer, device)\n",
        "    evaluate_model(model, validation_data_loader, device)\n",
        "\n",
        "save_model(model, 'summrizer_model')\n"
      ]
    },
    {
      "cell_type": "code",
      "execution_count": null,
      "metadata": {
        "execution": {
          "iopub.execute_input": "2024-05-01T00:17:26.241474Z",
          "iopub.status.busy": "2024-05-01T00:17:26.241114Z",
          "iopub.status.idle": "2024-05-01T00:17:27.294139Z",
          "shell.execute_reply": "2024-05-01T00:17:27.293359Z",
          "shell.execute_reply.started": "2024-05-01T00:17:26.241431Z"
        },
        "id": "xrsB6WQ4-QZm",
        "trusted": true,
        "colab": {
          "base_uri": "https://localhost:8080/"
        },
        "outputId": "fbd80c36-5ef9-4e8c-e035-4eda5b9dafcb"
      },
      "outputs": [
        {
          "output_type": "execute_result",
          "data": {
            "text/plain": [
              "('/content/summrizer_model/tokenizer_config.json',\n",
              " '/content/summrizer_model/special_tokens_map.json',\n",
              " '/content/summrizer_model/sentencepiece.bpe.model',\n",
              " '/content/summrizer_model/added_tokens.json',\n",
              " '/content/summrizer_model/tokenizer.json')"
            ]
          },
          "metadata": {},
          "execution_count": 33
        }
      ],
      "source": [
        "# Load the trained model\n",
        "model_path = './summrizer_model'\n",
        "model = AutoModelForSeq2SeqLM.from_pretrained(model_path)\n",
        "tokenizer = AutoTokenizer.from_pretrained('moussaKam/AraBART')\n",
        "model.save_pretrained('/content/summrizer_model')\n",
        "tokenizer.save_pretrained('/content/summrizer_model')"
      ]
    },
    {
      "cell_type": "code",
      "source": [
        "!zip -r summrizer_model.zip summrizer_model\n",
        "from google.colab import files\n",
        "files.download('summrizer_model.zip')"
      ],
      "metadata": {
        "colab": {
          "base_uri": "https://localhost:8080/",
          "height": 156
        },
        "id": "J9uIhtjMp6nP",
        "outputId": "aefbcfbb-aa99-4028-d315-7a1190f44a34"
      },
      "execution_count": null,
      "outputs": [
        {
          "output_type": "stream",
          "name": "stdout",
          "text": [
            "  adding: summrizer_model/ (stored 0%)\n",
            "  adding: summrizer_model/generation_config.json (deflated 43%)\n",
            "  adding: summrizer_model/special_tokens_map.json (deflated 52%)\n",
            "  adding: summrizer_model/tokenizer_config.json (deflated 76%)\n",
            "  adding: summrizer_model/model.safetensors (deflated 8%)\n",
            "  adding: summrizer_model/config.json (deflated 60%)\n",
            "  adding: summrizer_model/tokenizer.json (deflated 77%)\n",
            "  adding: summrizer_model/sentencepiece.bpe.model (deflated 57%)\n"
          ]
        },
        {
          "output_type": "display_data",
          "data": {
            "text/plain": [
              "<IPython.core.display.Javascript object>"
            ],
            "application/javascript": [
              "\n",
              "    async function download(id, filename, size) {\n",
              "      if (!google.colab.kernel.accessAllowed) {\n",
              "        return;\n",
              "      }\n",
              "      const div = document.createElement('div');\n",
              "      const label = document.createElement('label');\n",
              "      label.textContent = `Downloading \"${filename}\": `;\n",
              "      div.appendChild(label);\n",
              "      const progress = document.createElement('progress');\n",
              "      progress.max = size;\n",
              "      div.appendChild(progress);\n",
              "      document.body.appendChild(div);\n",
              "\n",
              "      const buffers = [];\n",
              "      let downloaded = 0;\n",
              "\n",
              "      const channel = await google.colab.kernel.comms.open(id);\n",
              "      // Send a message to notify the kernel that we're ready.\n",
              "      channel.send({})\n",
              "\n",
              "      for await (const message of channel.messages) {\n",
              "        // Send a message to notify the kernel that we're ready.\n",
              "        channel.send({})\n",
              "        if (message.buffers) {\n",
              "          for (const buffer of message.buffers) {\n",
              "            buffers.push(buffer);\n",
              "            downloaded += buffer.byteLength;\n",
              "            progress.value = downloaded;\n",
              "          }\n",
              "        }\n",
              "      }\n",
              "      const blob = new Blob(buffers, {type: 'application/binary'});\n",
              "      const a = document.createElement('a');\n",
              "      a.href = window.URL.createObjectURL(blob);\n",
              "      a.download = filename;\n",
              "      div.appendChild(a);\n",
              "      a.click();\n",
              "      div.remove();\n",
              "    }\n",
              "  "
            ]
          },
          "metadata": {}
        },
        {
          "output_type": "display_data",
          "data": {
            "text/plain": [
              "<IPython.core.display.Javascript object>"
            ],
            "application/javascript": [
              "download(\"download_0ef1ff93-f488-468d-94ed-8b4760fea9b8\", \"summrizer_model.zip\", 516746353)"
            ]
          },
          "metadata": {}
        }
      ]
    },
    {
      "cell_type": "code",
      "execution_count": null,
      "metadata": {
        "execution": {
          "iopub.execute_input": "2024-05-01T00:17:27.295679Z",
          "iopub.status.busy": "2024-05-01T00:17:27.295391Z",
          "iopub.status.idle": "2024-05-01T00:19:57.884446Z",
          "shell.execute_reply": "2024-05-01T00:19:57.883460Z",
          "shell.execute_reply.started": "2024-05-01T00:17:27.295655Z"
        },
        "id": "9oqNBmSg-QZm",
        "trusted": true
      },
      "outputs": [],
      "source": [
        "import csv\n",
        "import torch\n",
        "\n",
        "# Function to generate predictions\n",
        "def generate_predictions(model, data_loader, tokenizer, device):\n",
        "    model.to(device)\n",
        "    model.eval()\n",
        "    predictions = []\n",
        "    original_word_counts = []\n",
        "\n",
        "    for batch in data_loader:\n",
        "        example_ids = batch['example_id'].to(device)\n",
        "        input_ids = batch['input_ids'].to(device)\n",
        "        attention_mask = batch['attention_mask'].to(device)\n",
        "        paragraphs = batch['paragraph']\n",
        "\n",
        "        for example_id, inp_id, att_mask, paragraph in zip(example_ids, input_ids, attention_mask, paragraphs):\n",
        "            paragraph_word_count = len(tokenizer.tokenize(paragraph))\n",
        "            original_word_counts.append(paragraph_word_count)\n",
        "\n",
        "            if inp_id.dim() == 1:\n",
        "                inp_id = inp_id.unsqueeze(0)\n",
        "\n",
        "            target_length = max(int(0.47 * paragraph_word_count), inp_id.size(1) + 1)\n",
        "            inp_id = inp_id.to(device)\n",
        "            att_mask = att_mask.to(device).unsqueeze(0)\n",
        "\n",
        "            outputs = model.generate(input_ids=inp_id, attention_mask=att_mask, max_length=target_length)\n",
        "            summary = tokenizer.decode(outputs[0], skip_special_tokens=True)\n",
        "            predictions.append({'example_id': example_id.item(), 'summary': summary})\n",
        "\n",
        "    return predictions, original_word_counts\n",
        "\n",
        "def save_predictions_to_csv(predictions, file_path):\n",
        "    with open(file_path, 'w', encoding='utf-8', newline='') as file:\n",
        "        fieldnames = ['example_id', 'summary']\n",
        "        writer = csv.DictWriter(file, fieldnames=fieldnames)\n",
        "        writer.writeheader()\n",
        "        for prediction in predictions:\n",
        "            writer.writerow(prediction)\n",
        "\n",
        "device = torch.device('cuda' if torch.cuda.is_available() else 'cpu')\n",
        "predictions, word_counts = generate_predictions(model, validation_data_loader, tokenizer, device)\n",
        "save_predictions_to_csv(predictions, 'predictions.csv')"
      ]
    },
    {
      "cell_type": "code",
      "execution_count": null,
      "metadata": {
        "execution": {
          "iopub.execute_input": "2024-05-01T00:19:57.985058Z",
          "iopub.status.busy": "2024-05-01T00:19:57.984755Z",
          "iopub.status.idle": "2024-05-01T00:19:58.418411Z",
          "shell.execute_reply": "2024-05-01T00:19:58.417454Z",
          "shell.execute_reply.started": "2024-05-01T00:19:57.985034Z"
        },
        "id": "qNH_uw4J-QZo",
        "outputId": "3052eb7c-151a-4b9b-dee8-e3858fc9a3e7",
        "trusted": true,
        "colab": {
          "base_uri": "https://localhost:8080/"
        }
      },
      "outputs": [
        {
          "output_type": "stream",
          "name": "stdout",
          "text": [
            "Generated Summary: فالذكاء الاصطناعي والتعلم الآلي يقدمان حلا مبتكرا للتحديات التقنية والاقتصادية مما يؤدي إلى تطوير العديد من الصناعات وتحسين الخدمات وبفضل التطور المستمر في هذا المجال نرى ثورة\n"
          ]
        }
      ],
      "source": [
        "def summarize_paragraph(paragraph, model, tokenizer, device, ratio=0.47):\n",
        "\n",
        "    tokens = tokenizer.encode_plus(\n",
        "        paragraph,\n",
        "        max_length=512,\n",
        "        truncation=True,\n",
        "        padding='max_length',\n",
        "        return_tensors='pt'\n",
        "    )\n",
        "    input_ids, attention_mask = tokens['input_ids'].to(device), tokens['attention_mask'].to(device)\n",
        "\n",
        "    target_length = max(1, int(ratio * len(tokenizer.tokenize(paragraph))))\n",
        "\n",
        "    summary_tokens = model.generate(\n",
        "        input_ids=input_ids,\n",
        "        attention_mask=attention_mask,\n",
        "        max_length=target_length\n",
        "    )\n",
        "    summary = tokenizer.decode(summary_tokens[0], skip_special_tokens=True)\n",
        "\n",
        "    return summary\n",
        "\n",
        "\n",
        "summary_ratio = 0.50\n",
        "input_paragraph = \"التقنيات الذكية تعزز بشكل كبير التفاعل بين البشر والآلات، وتغير بوضوح نهج الحياة اليومية وطريقة التفكير. فالذكاء الاصطناعي والتعلم الآلي يقدمان حلاً مبتكرًا للتحديات التقنية والاقتصادية، مما يؤدي إلى تطوير العديد من الصناعات وتحسين الخدمات. وبفضل التطور المستمر في هذا المجال، نرى ثورة رقمية تحدث تغييرات عميقة في كافة جوانب الحياة، من العمل إلى الترفيه والتواصل الاجتماعي.\"\n",
        "generated_summary = summarize_paragraph(input_paragraph, model, tokenizer, device, summary_ratio)\n",
        "print(\"Generated Summary:\", generated_summary)\n"
      ]
    },
    {
      "cell_type": "code",
      "source": [
        "summary_ratio = 0.50\n",
        "input_paragraph = \"تغير المناخ هو من أبرز التحديات التي تواجه البشرية اليوم. ويُقصد به التغير طويل الأمد في درجات الحرارة وأنماط الطقس على كوكب الأرض، ويرتبط إلى حد كبير بالنشاط البشري، خاصة الانبعاثات الناتجة عن حرق الوقود الأحفوري مثل الفحم والنفط. أدت هذه الانبعاثات إلى تراكم غازات الاحتباس الحراري في الغلاف الجوي، مما تسبب في ارتفاع درجة حرارة الأرض. من أبرز آثار تغير المناخ: ذوبان الجليد القطبي، وارتفاع مستوى سطح البحر، وتغير نمط الأمطار، وزيادة الظواهر الجوية المتطرفة كالفيضانات والجفاف. وللتصدي لهذا التحدي، تتعاون الدول عبر اتفاقيات دولية مثل اتفاقية باريس، وتتبنى سياسات للحد من الانبعاثات، وتحفيز استخدام الطاقة المتجددة، وتعزيز الوعي البيئي بين الأفراد والمجتمعات\"\n",
        "generated_summary = summarize_paragraph(input_paragraph, model, tokenizer, device, summary_ratio)\n",
        "print(\"Generated Summary:\", generated_summary)\n"
      ],
      "metadata": {
        "colab": {
          "base_uri": "https://localhost:8080/"
        },
        "id": "L5YQZqty2eIa",
        "outputId": "b13da8e1-62c0-4e16-971b-eab359fb5257"
      },
      "execution_count": null,
      "outputs": [
        {
          "output_type": "stream",
          "name": "stdout",
          "text": [
            "Generated Summary: تغير المناخ هو من أبرز التحديات التي تواجه البشرية اليوم. ويقصد به التغير طويل الأمد في درجات الحرارة وأنماط الطقس على كوكب الأرض، ويرتبط إلى حد كبير بالنشاط البشري، خاصة الانبعاثات الناتجة عن حرق الوقود الأحفوري مثل الفحم والنفط. من أبرز آثار تغير المناخ: ذوبان الجليد القطبي، وارتفاع مستوى سطح\n"
          ]
        }
      ]
    },
    {
      "cell_type": "code",
      "execution_count": null,
      "metadata": {
        "execution": {
          "iopub.execute_input": "2024-05-01T00:19:58.431316Z",
          "iopub.status.busy": "2024-05-01T00:19:58.430918Z",
          "iopub.status.idle": "2024-05-01T00:20:11.475784Z",
          "shell.execute_reply": "2024-05-01T00:20:11.474559Z",
          "shell.execute_reply.started": "2024-05-01T00:19:58.431281Z"
        },
        "id": "3oysKyo2-QZr",
        "outputId": "b105f975-cc12-4e19-ed3e-c3c9f0b1559d",
        "trusted": true,
        "colab": {
          "base_uri": "https://localhost:8080/"
        }
      },
      "outputs": [
        {
          "output_type": "stream",
          "name": "stdout",
          "text": [
            "Collecting rouge\n",
            "  Downloading rouge-1.0.1-py3-none-any.whl.metadata (4.1 kB)\n",
            "Requirement already satisfied: six in /usr/local/lib/python3.11/dist-packages (from rouge) (1.17.0)\n",
            "Downloading rouge-1.0.1-py3-none-any.whl (13 kB)\n",
            "Installing collected packages: rouge\n",
            "Successfully installed rouge-1.0.1\n"
          ]
        }
      ],
      "source": [
        "!pip install rouge"
      ]
    },
    {
      "cell_type": "code",
      "source": [
        "from rouge import Rouge\n",
        "from nltk.translate.bleu_score import sentence_bleu\n",
        "\n",
        "def calculate_rouge(predictions, true_summaries):\n",
        "    rouge = Rouge()\n",
        "    scores = {'rouge-1': [], 'rouge-2': [], 'rouge-l': []}\n",
        "\n",
        "    for prediction, true_summary in zip(predictions, true_summaries):\n",
        "        score = rouge.get_scores(prediction['summary'], true_summary)\n",
        "        scores['rouge-1'].append(score[0]['rouge-1']['f'])\n",
        "        scores['rouge-2'].append(score[0]['rouge-2']['f'])\n",
        "        scores['rouge-l'].append(score[0]['rouge-l']['f'])\n",
        "\n",
        "    avg_scores = {key: sum(value) / len(value) for key, value in scores.items()}\n",
        "    return avg_scores\n",
        "\n",
        "def calculate_bleu(predictions, true_summaries):\n",
        "    bleu_scores = []\n",
        "\n",
        "    for prediction, true_summary in zip(predictions, true_summaries):\n",
        "        reference = [true_summary.split()]\n",
        "        candidate = prediction['summary'].split()\n",
        "        score = sentence_bleu(reference, candidate)\n",
        "        bleu_scores.append(score)\n",
        "\n",
        "    avg_bleu_score = sum(bleu_scores) / len(bleu_scores)\n",
        "    return avg_bleu_score\n",
        "\n",
        "true_summaries = [item['summarizer'] for _, item in enumerate(validation_dataset)]"
      ],
      "metadata": {
        "id": "trvwzoXUyTUE"
      },
      "execution_count": null,
      "outputs": []
    },
    {
      "cell_type": "code",
      "source": [
        "# Calculate ROUGE scores\n",
        "rouge_scores = calculate_rouge(predictions, true_summaries)\n",
        "\n",
        "# Calculate BLEU score\n",
        "bleu_score = calculate_bleu(predictions, true_summaries)\n",
        "\n",
        "# Print all scores\n",
        "print(f\"ROUGE-1 Score: {rouge_scores['rouge-1']:.2f}\")\n",
        "print(f\"ROUGE-2 Score: {rouge_scores['rouge-2']:.2f}\")\n",
        "print(f\"ROUGE-L Score: {rouge_scores['rouge-l']:.2f}\")\n",
        "print(f\"BLEU Score: {bleu_score:.2f}\")\n",
        "\n"
      ],
      "metadata": {
        "colab": {
          "base_uri": "https://localhost:8080/"
        },
        "id": "RdEeF5wqscSq",
        "outputId": "df2a2752-92f3-4678-d9f7-1f5d52654f1d"
      },
      "execution_count": null,
      "outputs": [
        {
          "output_type": "stream",
          "name": "stdout",
          "text": [
            "ROUGE-1 Score: 0.84\n",
            "ROUGE-2 Score: 0.81\n",
            "ROUGE-L Score: 0.79\n",
            "BLEU Score: 0.75\n"
          ]
        },
        {
          "output_type": "stream",
          "name": "stderr",
          "text": [
            "/usr/local/lib/python3.11/dist-packages/nltk/translate/bleu_score.py:577: UserWarning: \n",
            "The hypothesis contains 0 counts of 2-gram overlaps.\n",
            "Therefore the BLEU score evaluates to 0, independently of\n",
            "how many N-gram overlaps of lower order it contains.\n",
            "Consider using lower n-gram order or use SmoothingFunction()\n",
            "  warnings.warn(_msg)\n",
            "/usr/local/lib/python3.11/dist-packages/nltk/translate/bleu_score.py:577: UserWarning: \n",
            "The hypothesis contains 0 counts of 3-gram overlaps.\n",
            "Therefore the BLEU score evaluates to 0, independently of\n",
            "how many N-gram overlaps of lower order it contains.\n",
            "Consider using lower n-gram order or use SmoothingFunction()\n",
            "  warnings.warn(_msg)\n",
            "/usr/local/lib/python3.11/dist-packages/nltk/translate/bleu_score.py:577: UserWarning: \n",
            "The hypothesis contains 0 counts of 4-gram overlaps.\n",
            "Therefore the BLEU score evaluates to 0, independently of\n",
            "how many N-gram overlaps of lower order it contains.\n",
            "Consider using lower n-gram order or use SmoothingFunction()\n",
            "  warnings.warn(_msg)\n"
          ]
        }
      ]
    }
  ],
  "metadata": {
    "accelerator": "GPU",
    "colab": {
      "gpuType": "T4",
      "provenance": []
    },
    "kaggle": {
      "accelerator": "nvidiaTeslaT4",
      "dataSources": [
        {
          "datasetId": 4914203,
          "sourceId": 8275830,
          "sourceType": "datasetVersion"
        }
      ],
      "dockerImageVersionId": 30699,
      "isGpuEnabled": true,
      "isInternetEnabled": true,
      "language": "python",
      "sourceType": "notebook"
    },
    "kernelspec": {
      "display_name": "Python 3",
      "name": "python3"
    },
    "language_info": {
      "codemirror_mode": {
        "name": "ipython",
        "version": 3
      },
      "file_extension": ".py",
      "mimetype": "text/x-python",
      "name": "python",
      "nbconvert_exporter": "python",
      "pygments_lexer": "ipython3",
      "version": "3.10.13"
    },
    "widgets": {
      "application/vnd.jupyter.widget-state+json": {
        "8e24a98dd8534b52810658263065dcff": {
          "model_module": "@jupyter-widgets/controls",
          "model_name": "HBoxModel",
          "model_module_version": "1.5.0",
          "state": {
            "_dom_classes": [],
            "_model_module": "@jupyter-widgets/controls",
            "_model_module_version": "1.5.0",
            "_model_name": "HBoxModel",
            "_view_count": null,
            "_view_module": "@jupyter-widgets/controls",
            "_view_module_version": "1.5.0",
            "_view_name": "HBoxView",
            "box_style": "",
            "children": [
              "IPY_MODEL_b4cdcc17893b484eacef76691fd5ecbf",
              "IPY_MODEL_c327c2a85a724b2a9df96a6cea7c6908",
              "IPY_MODEL_42f9eedd88724480b38832b780bc52c6"
            ],
            "layout": "IPY_MODEL_5a01888e5b4d44fabf3000f710686eb1"
          }
        },
        "b4cdcc17893b484eacef76691fd5ecbf": {
          "model_module": "@jupyter-widgets/controls",
          "model_name": "HTMLModel",
          "model_module_version": "1.5.0",
          "state": {
            "_dom_classes": [],
            "_model_module": "@jupyter-widgets/controls",
            "_model_module_version": "1.5.0",
            "_model_name": "HTMLModel",
            "_view_count": null,
            "_view_module": "@jupyter-widgets/controls",
            "_view_module_version": "1.5.0",
            "_view_name": "HTMLView",
            "description": "",
            "description_tooltip": null,
            "layout": "IPY_MODEL_4acf5e8d31d74ec08de5aba41d9f4c8e",
            "placeholder": "​",
            "style": "IPY_MODEL_a3081e70119541f2aa7c37a79b4dcf0e",
            "value": "config.json: 100%"
          }
        },
        "c327c2a85a724b2a9df96a6cea7c6908": {
          "model_module": "@jupyter-widgets/controls",
          "model_name": "FloatProgressModel",
          "model_module_version": "1.5.0",
          "state": {
            "_dom_classes": [],
            "_model_module": "@jupyter-widgets/controls",
            "_model_module_version": "1.5.0",
            "_model_name": "FloatProgressModel",
            "_view_count": null,
            "_view_module": "@jupyter-widgets/controls",
            "_view_module_version": "1.5.0",
            "_view_name": "ProgressView",
            "bar_style": "success",
            "description": "",
            "description_tooltip": null,
            "layout": "IPY_MODEL_778cecfed7c94b4799847b9264755927",
            "max": 1392,
            "min": 0,
            "orientation": "horizontal",
            "style": "IPY_MODEL_359746a861364f2ab94d062fa70763bc",
            "value": 1392
          }
        },
        "42f9eedd88724480b38832b780bc52c6": {
          "model_module": "@jupyter-widgets/controls",
          "model_name": "HTMLModel",
          "model_module_version": "1.5.0",
          "state": {
            "_dom_classes": [],
            "_model_module": "@jupyter-widgets/controls",
            "_model_module_version": "1.5.0",
            "_model_name": "HTMLModel",
            "_view_count": null,
            "_view_module": "@jupyter-widgets/controls",
            "_view_module_version": "1.5.0",
            "_view_name": "HTMLView",
            "description": "",
            "description_tooltip": null,
            "layout": "IPY_MODEL_3a19ab6d52494f9e997c316de3ce17d9",
            "placeholder": "​",
            "style": "IPY_MODEL_be92c00dec5e475b9aac9fb87205a440",
            "value": " 1.39k/1.39k [00:00&lt;00:00, 47.5kB/s]"
          }
        },
        "5a01888e5b4d44fabf3000f710686eb1": {
          "model_module": "@jupyter-widgets/base",
          "model_name": "LayoutModel",
          "model_module_version": "1.2.0",
          "state": {
            "_model_module": "@jupyter-widgets/base",
            "_model_module_version": "1.2.0",
            "_model_name": "LayoutModel",
            "_view_count": null,
            "_view_module": "@jupyter-widgets/base",
            "_view_module_version": "1.2.0",
            "_view_name": "LayoutView",
            "align_content": null,
            "align_items": null,
            "align_self": null,
            "border": null,
            "bottom": null,
            "display": null,
            "flex": null,
            "flex_flow": null,
            "grid_area": null,
            "grid_auto_columns": null,
            "grid_auto_flow": null,
            "grid_auto_rows": null,
            "grid_column": null,
            "grid_gap": null,
            "grid_row": null,
            "grid_template_areas": null,
            "grid_template_columns": null,
            "grid_template_rows": null,
            "height": null,
            "justify_content": null,
            "justify_items": null,
            "left": null,
            "margin": null,
            "max_height": null,
            "max_width": null,
            "min_height": null,
            "min_width": null,
            "object_fit": null,
            "object_position": null,
            "order": null,
            "overflow": null,
            "overflow_x": null,
            "overflow_y": null,
            "padding": null,
            "right": null,
            "top": null,
            "visibility": null,
            "width": null
          }
        },
        "4acf5e8d31d74ec08de5aba41d9f4c8e": {
          "model_module": "@jupyter-widgets/base",
          "model_name": "LayoutModel",
          "model_module_version": "1.2.0",
          "state": {
            "_model_module": "@jupyter-widgets/base",
            "_model_module_version": "1.2.0",
            "_model_name": "LayoutModel",
            "_view_count": null,
            "_view_module": "@jupyter-widgets/base",
            "_view_module_version": "1.2.0",
            "_view_name": "LayoutView",
            "align_content": null,
            "align_items": null,
            "align_self": null,
            "border": null,
            "bottom": null,
            "display": null,
            "flex": null,
            "flex_flow": null,
            "grid_area": null,
            "grid_auto_columns": null,
            "grid_auto_flow": null,
            "grid_auto_rows": null,
            "grid_column": null,
            "grid_gap": null,
            "grid_row": null,
            "grid_template_areas": null,
            "grid_template_columns": null,
            "grid_template_rows": null,
            "height": null,
            "justify_content": null,
            "justify_items": null,
            "left": null,
            "margin": null,
            "max_height": null,
            "max_width": null,
            "min_height": null,
            "min_width": null,
            "object_fit": null,
            "object_position": null,
            "order": null,
            "overflow": null,
            "overflow_x": null,
            "overflow_y": null,
            "padding": null,
            "right": null,
            "top": null,
            "visibility": null,
            "width": null
          }
        },
        "a3081e70119541f2aa7c37a79b4dcf0e": {
          "model_module": "@jupyter-widgets/controls",
          "model_name": "DescriptionStyleModel",
          "model_module_version": "1.5.0",
          "state": {
            "_model_module": "@jupyter-widgets/controls",
            "_model_module_version": "1.5.0",
            "_model_name": "DescriptionStyleModel",
            "_view_count": null,
            "_view_module": "@jupyter-widgets/base",
            "_view_module_version": "1.2.0",
            "_view_name": "StyleView",
            "description_width": ""
          }
        },
        "778cecfed7c94b4799847b9264755927": {
          "model_module": "@jupyter-widgets/base",
          "model_name": "LayoutModel",
          "model_module_version": "1.2.0",
          "state": {
            "_model_module": "@jupyter-widgets/base",
            "_model_module_version": "1.2.0",
            "_model_name": "LayoutModel",
            "_view_count": null,
            "_view_module": "@jupyter-widgets/base",
            "_view_module_version": "1.2.0",
            "_view_name": "LayoutView",
            "align_content": null,
            "align_items": null,
            "align_self": null,
            "border": null,
            "bottom": null,
            "display": null,
            "flex": null,
            "flex_flow": null,
            "grid_area": null,
            "grid_auto_columns": null,
            "grid_auto_flow": null,
            "grid_auto_rows": null,
            "grid_column": null,
            "grid_gap": null,
            "grid_row": null,
            "grid_template_areas": null,
            "grid_template_columns": null,
            "grid_template_rows": null,
            "height": null,
            "justify_content": null,
            "justify_items": null,
            "left": null,
            "margin": null,
            "max_height": null,
            "max_width": null,
            "min_height": null,
            "min_width": null,
            "object_fit": null,
            "object_position": null,
            "order": null,
            "overflow": null,
            "overflow_x": null,
            "overflow_y": null,
            "padding": null,
            "right": null,
            "top": null,
            "visibility": null,
            "width": null
          }
        },
        "359746a861364f2ab94d062fa70763bc": {
          "model_module": "@jupyter-widgets/controls",
          "model_name": "ProgressStyleModel",
          "model_module_version": "1.5.0",
          "state": {
            "_model_module": "@jupyter-widgets/controls",
            "_model_module_version": "1.5.0",
            "_model_name": "ProgressStyleModel",
            "_view_count": null,
            "_view_module": "@jupyter-widgets/base",
            "_view_module_version": "1.2.0",
            "_view_name": "StyleView",
            "bar_color": null,
            "description_width": ""
          }
        },
        "3a19ab6d52494f9e997c316de3ce17d9": {
          "model_module": "@jupyter-widgets/base",
          "model_name": "LayoutModel",
          "model_module_version": "1.2.0",
          "state": {
            "_model_module": "@jupyter-widgets/base",
            "_model_module_version": "1.2.0",
            "_model_name": "LayoutModel",
            "_view_count": null,
            "_view_module": "@jupyter-widgets/base",
            "_view_module_version": "1.2.0",
            "_view_name": "LayoutView",
            "align_content": null,
            "align_items": null,
            "align_self": null,
            "border": null,
            "bottom": null,
            "display": null,
            "flex": null,
            "flex_flow": null,
            "grid_area": null,
            "grid_auto_columns": null,
            "grid_auto_flow": null,
            "grid_auto_rows": null,
            "grid_column": null,
            "grid_gap": null,
            "grid_row": null,
            "grid_template_areas": null,
            "grid_template_columns": null,
            "grid_template_rows": null,
            "height": null,
            "justify_content": null,
            "justify_items": null,
            "left": null,
            "margin": null,
            "max_height": null,
            "max_width": null,
            "min_height": null,
            "min_width": null,
            "object_fit": null,
            "object_position": null,
            "order": null,
            "overflow": null,
            "overflow_x": null,
            "overflow_y": null,
            "padding": null,
            "right": null,
            "top": null,
            "visibility": null,
            "width": null
          }
        },
        "be92c00dec5e475b9aac9fb87205a440": {
          "model_module": "@jupyter-widgets/controls",
          "model_name": "DescriptionStyleModel",
          "model_module_version": "1.5.0",
          "state": {
            "_model_module": "@jupyter-widgets/controls",
            "_model_module_version": "1.5.0",
            "_model_name": "DescriptionStyleModel",
            "_view_count": null,
            "_view_module": "@jupyter-widgets/base",
            "_view_module_version": "1.2.0",
            "_view_name": "StyleView",
            "description_width": ""
          }
        },
        "62b528b72eb14b479ac2bc0c1eb454b4": {
          "model_module": "@jupyter-widgets/controls",
          "model_name": "HBoxModel",
          "model_module_version": "1.5.0",
          "state": {
            "_dom_classes": [],
            "_model_module": "@jupyter-widgets/controls",
            "_model_module_version": "1.5.0",
            "_model_name": "HBoxModel",
            "_view_count": null,
            "_view_module": "@jupyter-widgets/controls",
            "_view_module_version": "1.5.0",
            "_view_name": "HBoxView",
            "box_style": "",
            "children": [
              "IPY_MODEL_32fabf95d33848339fcc6e133b83c601",
              "IPY_MODEL_9db4b349c3ab429db11e3727bbee04df",
              "IPY_MODEL_540d9e39daf24896bbda980648c51dc9"
            ],
            "layout": "IPY_MODEL_4728c1945ca848c49697504cfe8652fa"
          }
        },
        "32fabf95d33848339fcc6e133b83c601": {
          "model_module": "@jupyter-widgets/controls",
          "model_name": "HTMLModel",
          "model_module_version": "1.5.0",
          "state": {
            "_dom_classes": [],
            "_model_module": "@jupyter-widgets/controls",
            "_model_module_version": "1.5.0",
            "_model_name": "HTMLModel",
            "_view_count": null,
            "_view_module": "@jupyter-widgets/controls",
            "_view_module_version": "1.5.0",
            "_view_name": "HTMLView",
            "description": "",
            "description_tooltip": null,
            "layout": "IPY_MODEL_1a3bf04cb2f74ade8a2828ccebea322f",
            "placeholder": "​",
            "style": "IPY_MODEL_43d4797faf9140b2b3563e9dfe9b44b8",
            "value": "sentencepiece.bpe.model: 100%"
          }
        },
        "9db4b349c3ab429db11e3727bbee04df": {
          "model_module": "@jupyter-widgets/controls",
          "model_name": "FloatProgressModel",
          "model_module_version": "1.5.0",
          "state": {
            "_dom_classes": [],
            "_model_module": "@jupyter-widgets/controls",
            "_model_module_version": "1.5.0",
            "_model_name": "FloatProgressModel",
            "_view_count": null,
            "_view_module": "@jupyter-widgets/controls",
            "_view_module_version": "1.5.0",
            "_view_name": "ProgressView",
            "bar_style": "success",
            "description": "",
            "description_tooltip": null,
            "layout": "IPY_MODEL_e3e460253aeb40d0bae9981d005b3bd2",
            "max": 1315170,
            "min": 0,
            "orientation": "horizontal",
            "style": "IPY_MODEL_de098e3471c34731b8fa14750f28bcc9",
            "value": 1315170
          }
        },
        "540d9e39daf24896bbda980648c51dc9": {
          "model_module": "@jupyter-widgets/controls",
          "model_name": "HTMLModel",
          "model_module_version": "1.5.0",
          "state": {
            "_dom_classes": [],
            "_model_module": "@jupyter-widgets/controls",
            "_model_module_version": "1.5.0",
            "_model_name": "HTMLModel",
            "_view_count": null,
            "_view_module": "@jupyter-widgets/controls",
            "_view_module_version": "1.5.0",
            "_view_name": "HTMLView",
            "description": "",
            "description_tooltip": null,
            "layout": "IPY_MODEL_148d281660bd43e5ae5de10c7ba7b725",
            "placeholder": "​",
            "style": "IPY_MODEL_9db3476b1aed45f1b5fab5de5acd94bc",
            "value": " 1.32M/1.32M [00:00&lt;00:00, 29.3MB/s]"
          }
        },
        "4728c1945ca848c49697504cfe8652fa": {
          "model_module": "@jupyter-widgets/base",
          "model_name": "LayoutModel",
          "model_module_version": "1.2.0",
          "state": {
            "_model_module": "@jupyter-widgets/base",
            "_model_module_version": "1.2.0",
            "_model_name": "LayoutModel",
            "_view_count": null,
            "_view_module": "@jupyter-widgets/base",
            "_view_module_version": "1.2.0",
            "_view_name": "LayoutView",
            "align_content": null,
            "align_items": null,
            "align_self": null,
            "border": null,
            "bottom": null,
            "display": null,
            "flex": null,
            "flex_flow": null,
            "grid_area": null,
            "grid_auto_columns": null,
            "grid_auto_flow": null,
            "grid_auto_rows": null,
            "grid_column": null,
            "grid_gap": null,
            "grid_row": null,
            "grid_template_areas": null,
            "grid_template_columns": null,
            "grid_template_rows": null,
            "height": null,
            "justify_content": null,
            "justify_items": null,
            "left": null,
            "margin": null,
            "max_height": null,
            "max_width": null,
            "min_height": null,
            "min_width": null,
            "object_fit": null,
            "object_position": null,
            "order": null,
            "overflow": null,
            "overflow_x": null,
            "overflow_y": null,
            "padding": null,
            "right": null,
            "top": null,
            "visibility": null,
            "width": null
          }
        },
        "1a3bf04cb2f74ade8a2828ccebea322f": {
          "model_module": "@jupyter-widgets/base",
          "model_name": "LayoutModel",
          "model_module_version": "1.2.0",
          "state": {
            "_model_module": "@jupyter-widgets/base",
            "_model_module_version": "1.2.0",
            "_model_name": "LayoutModel",
            "_view_count": null,
            "_view_module": "@jupyter-widgets/base",
            "_view_module_version": "1.2.0",
            "_view_name": "LayoutView",
            "align_content": null,
            "align_items": null,
            "align_self": null,
            "border": null,
            "bottom": null,
            "display": null,
            "flex": null,
            "flex_flow": null,
            "grid_area": null,
            "grid_auto_columns": null,
            "grid_auto_flow": null,
            "grid_auto_rows": null,
            "grid_column": null,
            "grid_gap": null,
            "grid_row": null,
            "grid_template_areas": null,
            "grid_template_columns": null,
            "grid_template_rows": null,
            "height": null,
            "justify_content": null,
            "justify_items": null,
            "left": null,
            "margin": null,
            "max_height": null,
            "max_width": null,
            "min_height": null,
            "min_width": null,
            "object_fit": null,
            "object_position": null,
            "order": null,
            "overflow": null,
            "overflow_x": null,
            "overflow_y": null,
            "padding": null,
            "right": null,
            "top": null,
            "visibility": null,
            "width": null
          }
        },
        "43d4797faf9140b2b3563e9dfe9b44b8": {
          "model_module": "@jupyter-widgets/controls",
          "model_name": "DescriptionStyleModel",
          "model_module_version": "1.5.0",
          "state": {
            "_model_module": "@jupyter-widgets/controls",
            "_model_module_version": "1.5.0",
            "_model_name": "DescriptionStyleModel",
            "_view_count": null,
            "_view_module": "@jupyter-widgets/base",
            "_view_module_version": "1.2.0",
            "_view_name": "StyleView",
            "description_width": ""
          }
        },
        "e3e460253aeb40d0bae9981d005b3bd2": {
          "model_module": "@jupyter-widgets/base",
          "model_name": "LayoutModel",
          "model_module_version": "1.2.0",
          "state": {
            "_model_module": "@jupyter-widgets/base",
            "_model_module_version": "1.2.0",
            "_model_name": "LayoutModel",
            "_view_count": null,
            "_view_module": "@jupyter-widgets/base",
            "_view_module_version": "1.2.0",
            "_view_name": "LayoutView",
            "align_content": null,
            "align_items": null,
            "align_self": null,
            "border": null,
            "bottom": null,
            "display": null,
            "flex": null,
            "flex_flow": null,
            "grid_area": null,
            "grid_auto_columns": null,
            "grid_auto_flow": null,
            "grid_auto_rows": null,
            "grid_column": null,
            "grid_gap": null,
            "grid_row": null,
            "grid_template_areas": null,
            "grid_template_columns": null,
            "grid_template_rows": null,
            "height": null,
            "justify_content": null,
            "justify_items": null,
            "left": null,
            "margin": null,
            "max_height": null,
            "max_width": null,
            "min_height": null,
            "min_width": null,
            "object_fit": null,
            "object_position": null,
            "order": null,
            "overflow": null,
            "overflow_x": null,
            "overflow_y": null,
            "padding": null,
            "right": null,
            "top": null,
            "visibility": null,
            "width": null
          }
        },
        "de098e3471c34731b8fa14750f28bcc9": {
          "model_module": "@jupyter-widgets/controls",
          "model_name": "ProgressStyleModel",
          "model_module_version": "1.5.0",
          "state": {
            "_model_module": "@jupyter-widgets/controls",
            "_model_module_version": "1.5.0",
            "_model_name": "ProgressStyleModel",
            "_view_count": null,
            "_view_module": "@jupyter-widgets/base",
            "_view_module_version": "1.2.0",
            "_view_name": "StyleView",
            "bar_color": null,
            "description_width": ""
          }
        },
        "148d281660bd43e5ae5de10c7ba7b725": {
          "model_module": "@jupyter-widgets/base",
          "model_name": "LayoutModel",
          "model_module_version": "1.2.0",
          "state": {
            "_model_module": "@jupyter-widgets/base",
            "_model_module_version": "1.2.0",
            "_model_name": "LayoutModel",
            "_view_count": null,
            "_view_module": "@jupyter-widgets/base",
            "_view_module_version": "1.2.0",
            "_view_name": "LayoutView",
            "align_content": null,
            "align_items": null,
            "align_self": null,
            "border": null,
            "bottom": null,
            "display": null,
            "flex": null,
            "flex_flow": null,
            "grid_area": null,
            "grid_auto_columns": null,
            "grid_auto_flow": null,
            "grid_auto_rows": null,
            "grid_column": null,
            "grid_gap": null,
            "grid_row": null,
            "grid_template_areas": null,
            "grid_template_columns": null,
            "grid_template_rows": null,
            "height": null,
            "justify_content": null,
            "justify_items": null,
            "left": null,
            "margin": null,
            "max_height": null,
            "max_width": null,
            "min_height": null,
            "min_width": null,
            "object_fit": null,
            "object_position": null,
            "order": null,
            "overflow": null,
            "overflow_x": null,
            "overflow_y": null,
            "padding": null,
            "right": null,
            "top": null,
            "visibility": null,
            "width": null
          }
        },
        "9db3476b1aed45f1b5fab5de5acd94bc": {
          "model_module": "@jupyter-widgets/controls",
          "model_name": "DescriptionStyleModel",
          "model_module_version": "1.5.0",
          "state": {
            "_model_module": "@jupyter-widgets/controls",
            "_model_module_version": "1.5.0",
            "_model_name": "DescriptionStyleModel",
            "_view_count": null,
            "_view_module": "@jupyter-widgets/base",
            "_view_module_version": "1.2.0",
            "_view_name": "StyleView",
            "description_width": ""
          }
        },
        "4f69a639439b48a18ce8bf4de087ca3b": {
          "model_module": "@jupyter-widgets/controls",
          "model_name": "HBoxModel",
          "model_module_version": "1.5.0",
          "state": {
            "_dom_classes": [],
            "_model_module": "@jupyter-widgets/controls",
            "_model_module_version": "1.5.0",
            "_model_name": "HBoxModel",
            "_view_count": null,
            "_view_module": "@jupyter-widgets/controls",
            "_view_module_version": "1.5.0",
            "_view_name": "HBoxView",
            "box_style": "",
            "children": [
              "IPY_MODEL_0649d9ed9e4c40459881e05566ce9819",
              "IPY_MODEL_06c1178275ab41fea770ca90d7078698",
              "IPY_MODEL_32123d2755ef4e1b8ac158def1478418"
            ],
            "layout": "IPY_MODEL_f2e5668ccc3649a08dbf587be5a67204"
          }
        },
        "0649d9ed9e4c40459881e05566ce9819": {
          "model_module": "@jupyter-widgets/controls",
          "model_name": "HTMLModel",
          "model_module_version": "1.5.0",
          "state": {
            "_dom_classes": [],
            "_model_module": "@jupyter-widgets/controls",
            "_model_module_version": "1.5.0",
            "_model_name": "HTMLModel",
            "_view_count": null,
            "_view_module": "@jupyter-widgets/controls",
            "_view_module_version": "1.5.0",
            "_view_name": "HTMLView",
            "description": "",
            "description_tooltip": null,
            "layout": "IPY_MODEL_f890506bee01464a81bd0ced61d7ac2f",
            "placeholder": "​",
            "style": "IPY_MODEL_d213fb5fd8ad41fea3e0c5ec4ccecaed",
            "value": "pytorch_model.bin: 100%"
          }
        },
        "06c1178275ab41fea770ca90d7078698": {
          "model_module": "@jupyter-widgets/controls",
          "model_name": "FloatProgressModel",
          "model_module_version": "1.5.0",
          "state": {
            "_dom_classes": [],
            "_model_module": "@jupyter-widgets/controls",
            "_model_module_version": "1.5.0",
            "_model_name": "FloatProgressModel",
            "_view_count": null,
            "_view_module": "@jupyter-widgets/controls",
            "_view_module_version": "1.5.0",
            "_view_name": "ProgressView",
            "bar_style": "success",
            "description": "",
            "description_tooltip": null,
            "layout": "IPY_MODEL_a3fd46c4ab9d4a50a68b6dc83548a8cb",
            "max": 556983662,
            "min": 0,
            "orientation": "horizontal",
            "style": "IPY_MODEL_6432809ad468450a9686c98a5b978d34",
            "value": 556983662
          }
        },
        "32123d2755ef4e1b8ac158def1478418": {
          "model_module": "@jupyter-widgets/controls",
          "model_name": "HTMLModel",
          "model_module_version": "1.5.0",
          "state": {
            "_dom_classes": [],
            "_model_module": "@jupyter-widgets/controls",
            "_model_module_version": "1.5.0",
            "_model_name": "HTMLModel",
            "_view_count": null,
            "_view_module": "@jupyter-widgets/controls",
            "_view_module_version": "1.5.0",
            "_view_name": "HTMLView",
            "description": "",
            "description_tooltip": null,
            "layout": "IPY_MODEL_e097d8dd83cb4c398b01a99b74c0b1c0",
            "placeholder": "​",
            "style": "IPY_MODEL_0e2fcdd88ad548c69639719e548f56b5",
            "value": " 557M/557M [00:01&lt;00:00, 292MB/s]"
          }
        },
        "f2e5668ccc3649a08dbf587be5a67204": {
          "model_module": "@jupyter-widgets/base",
          "model_name": "LayoutModel",
          "model_module_version": "1.2.0",
          "state": {
            "_model_module": "@jupyter-widgets/base",
            "_model_module_version": "1.2.0",
            "_model_name": "LayoutModel",
            "_view_count": null,
            "_view_module": "@jupyter-widgets/base",
            "_view_module_version": "1.2.0",
            "_view_name": "LayoutView",
            "align_content": null,
            "align_items": null,
            "align_self": null,
            "border": null,
            "bottom": null,
            "display": null,
            "flex": null,
            "flex_flow": null,
            "grid_area": null,
            "grid_auto_columns": null,
            "grid_auto_flow": null,
            "grid_auto_rows": null,
            "grid_column": null,
            "grid_gap": null,
            "grid_row": null,
            "grid_template_areas": null,
            "grid_template_columns": null,
            "grid_template_rows": null,
            "height": null,
            "justify_content": null,
            "justify_items": null,
            "left": null,
            "margin": null,
            "max_height": null,
            "max_width": null,
            "min_height": null,
            "min_width": null,
            "object_fit": null,
            "object_position": null,
            "order": null,
            "overflow": null,
            "overflow_x": null,
            "overflow_y": null,
            "padding": null,
            "right": null,
            "top": null,
            "visibility": null,
            "width": null
          }
        },
        "f890506bee01464a81bd0ced61d7ac2f": {
          "model_module": "@jupyter-widgets/base",
          "model_name": "LayoutModel",
          "model_module_version": "1.2.0",
          "state": {
            "_model_module": "@jupyter-widgets/base",
            "_model_module_version": "1.2.0",
            "_model_name": "LayoutModel",
            "_view_count": null,
            "_view_module": "@jupyter-widgets/base",
            "_view_module_version": "1.2.0",
            "_view_name": "LayoutView",
            "align_content": null,
            "align_items": null,
            "align_self": null,
            "border": null,
            "bottom": null,
            "display": null,
            "flex": null,
            "flex_flow": null,
            "grid_area": null,
            "grid_auto_columns": null,
            "grid_auto_flow": null,
            "grid_auto_rows": null,
            "grid_column": null,
            "grid_gap": null,
            "grid_row": null,
            "grid_template_areas": null,
            "grid_template_columns": null,
            "grid_template_rows": null,
            "height": null,
            "justify_content": null,
            "justify_items": null,
            "left": null,
            "margin": null,
            "max_height": null,
            "max_width": null,
            "min_height": null,
            "min_width": null,
            "object_fit": null,
            "object_position": null,
            "order": null,
            "overflow": null,
            "overflow_x": null,
            "overflow_y": null,
            "padding": null,
            "right": null,
            "top": null,
            "visibility": null,
            "width": null
          }
        },
        "d213fb5fd8ad41fea3e0c5ec4ccecaed": {
          "model_module": "@jupyter-widgets/controls",
          "model_name": "DescriptionStyleModel",
          "model_module_version": "1.5.0",
          "state": {
            "_model_module": "@jupyter-widgets/controls",
            "_model_module_version": "1.5.0",
            "_model_name": "DescriptionStyleModel",
            "_view_count": null,
            "_view_module": "@jupyter-widgets/base",
            "_view_module_version": "1.2.0",
            "_view_name": "StyleView",
            "description_width": ""
          }
        },
        "a3fd46c4ab9d4a50a68b6dc83548a8cb": {
          "model_module": "@jupyter-widgets/base",
          "model_name": "LayoutModel",
          "model_module_version": "1.2.0",
          "state": {
            "_model_module": "@jupyter-widgets/base",
            "_model_module_version": "1.2.0",
            "_model_name": "LayoutModel",
            "_view_count": null,
            "_view_module": "@jupyter-widgets/base",
            "_view_module_version": "1.2.0",
            "_view_name": "LayoutView",
            "align_content": null,
            "align_items": null,
            "align_self": null,
            "border": null,
            "bottom": null,
            "display": null,
            "flex": null,
            "flex_flow": null,
            "grid_area": null,
            "grid_auto_columns": null,
            "grid_auto_flow": null,
            "grid_auto_rows": null,
            "grid_column": null,
            "grid_gap": null,
            "grid_row": null,
            "grid_template_areas": null,
            "grid_template_columns": null,
            "grid_template_rows": null,
            "height": null,
            "justify_content": null,
            "justify_items": null,
            "left": null,
            "margin": null,
            "max_height": null,
            "max_width": null,
            "min_height": null,
            "min_width": null,
            "object_fit": null,
            "object_position": null,
            "order": null,
            "overflow": null,
            "overflow_x": null,
            "overflow_y": null,
            "padding": null,
            "right": null,
            "top": null,
            "visibility": null,
            "width": null
          }
        },
        "6432809ad468450a9686c98a5b978d34": {
          "model_module": "@jupyter-widgets/controls",
          "model_name": "ProgressStyleModel",
          "model_module_version": "1.5.0",
          "state": {
            "_model_module": "@jupyter-widgets/controls",
            "_model_module_version": "1.5.0",
            "_model_name": "ProgressStyleModel",
            "_view_count": null,
            "_view_module": "@jupyter-widgets/base",
            "_view_module_version": "1.2.0",
            "_view_name": "StyleView",
            "bar_color": null,
            "description_width": ""
          }
        },
        "e097d8dd83cb4c398b01a99b74c0b1c0": {
          "model_module": "@jupyter-widgets/base",
          "model_name": "LayoutModel",
          "model_module_version": "1.2.0",
          "state": {
            "_model_module": "@jupyter-widgets/base",
            "_model_module_version": "1.2.0",
            "_model_name": "LayoutModel",
            "_view_count": null,
            "_view_module": "@jupyter-widgets/base",
            "_view_module_version": "1.2.0",
            "_view_name": "LayoutView",
            "align_content": null,
            "align_items": null,
            "align_self": null,
            "border": null,
            "bottom": null,
            "display": null,
            "flex": null,
            "flex_flow": null,
            "grid_area": null,
            "grid_auto_columns": null,
            "grid_auto_flow": null,
            "grid_auto_rows": null,
            "grid_column": null,
            "grid_gap": null,
            "grid_row": null,
            "grid_template_areas": null,
            "grid_template_columns": null,
            "grid_template_rows": null,
            "height": null,
            "justify_content": null,
            "justify_items": null,
            "left": null,
            "margin": null,
            "max_height": null,
            "max_width": null,
            "min_height": null,
            "min_width": null,
            "object_fit": null,
            "object_position": null,
            "order": null,
            "overflow": null,
            "overflow_x": null,
            "overflow_y": null,
            "padding": null,
            "right": null,
            "top": null,
            "visibility": null,
            "width": null
          }
        },
        "0e2fcdd88ad548c69639719e548f56b5": {
          "model_module": "@jupyter-widgets/controls",
          "model_name": "DescriptionStyleModel",
          "model_module_version": "1.5.0",
          "state": {
            "_model_module": "@jupyter-widgets/controls",
            "_model_module_version": "1.5.0",
            "_model_name": "DescriptionStyleModel",
            "_view_count": null,
            "_view_module": "@jupyter-widgets/base",
            "_view_module_version": "1.2.0",
            "_view_name": "StyleView",
            "description_width": ""
          }
        }
      }
    }
  },
  "nbformat": 4,
  "nbformat_minor": 0
}